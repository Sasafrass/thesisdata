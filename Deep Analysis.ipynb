{
 "cells": [
  {
   "cell_type": "code",
   "execution_count": 1,
   "metadata": {},
   "outputs": [],
   "source": [
    "import numpy as np\n",
    "import pandas as pd"
   ]
  },
  {
   "cell_type": "markdown",
   "metadata": {},
   "source": [
    "# Analysis of the 50 data"
   ]
  },
  {
   "cell_type": "code",
   "execution_count": 7,
   "metadata": {},
   "outputs": [],
   "source": [
    "df = pd.DataFrame(np.array([[5, 5, 5, 5, 5, 5, 5, 5, 5, 5, 5, 5, 5, 5, 5], \n",
    "[10, 7, 6, 8, 9, 5, 7, 5, 9, 7, 5, 7, 7, 8, 6], \n",
    "[12, 7, 6, 8, 11, 6, 7, 6, 9, 7, 6, 10, 7, 8, 7], \n",
    "[16, 8, 6, 9, 12, 7, 10, 7, 10, 8, 7, 14, 11, 9, 7], \n",
    "[19, 10, 8, 14, 13, 7, 12, 9, 11, 12, 10, 14, 12, 13, 7], \n",
    "[19, 11, 8, 14, 13, 13, 14, 10, 13, 13, 11, 16, 12, 16, 8], \n",
    "[20, 11, 12, 18, 15, 17, 16, 11, 15, 13, 16, 19, 13, 17, 10], \n",
    "[22, 13, 12, 18, 18, 18, 20, 14, 17, 18, 19, 20, 15, 19, 10], \n",
    "[26, 19, 20, 23, 18, 20, 24, 18, 18, 25, 22, 20, 19, 20, 10], \n",
    "[26, 21, 21, 25, 22, 21, 25, 18, 18, 27, 23, 23, 26, 26, 12], \n",
    "[28, 24, 27, 26, 23, 23, 27, 20, 18, 29, 23, 24, 28, 27, 14], \n",
    "[31, 26, 27, 28, 28, 27, 32, 24, 19, 30, 23, 26, 29, 31, 17], \n",
    "[32, 28, 29, 30, 29, 29, 33, 26, 19, 31, 25, 28, 31, 34, 20], \n",
    "[34, 31, 30, 31, 29, 30, 33, 26, 27, 34, 26, 32, 31, 34, 25], \n",
    "[34, 33, 32, 31, 30, 30, 33, 28, 28, 34, 26, 32, 33, 35, 26], \n",
    "[35, 33, 32, 31, 30, 32, 36, 28, 32, 35, 28, 33, 35, 35, 32], \n",
    "[35, 34, 32, 31, 30, 35, 36, 30, 34, 35, 30, 33, 35, 36, 34], \n",
    "[35, 34, 33, 31, 33, 36, 37, 32, 35, 35, 30, 34, 35, 37, 34], \n",
    "[35, 36, 35, 33, 33, 37, 37, 32, 35, 35, 33, 35, 35, 37, 34], \n",
    "[35, 36, 35, 36, 33, 38, 37, 32, 35, 35, 36, 35, 35, 37, 37], \n",
    "[36, 36, 37, 36, 34, 38, 37, 34, 35, 35, 36, 35, 35, 37, 37], \n",
    "[36, 36, 37, 36, 34, 38, 37, 34, 35, 35, 36, 35, 35, 37, 37], \n",
    "[36, 36, 37, 37, 34, 38, 37, 36, 36, 35, 36, 35, 35, 37, 37], \n",
    "[36, 36, 37, 37, 36, 38, 37, 36, 36, 35, 36, 35, 35, 37, 37], \n",
    "[36, 36, 37, 37, 36, 38, 38, 36, 36, 35, 37, 35, 36, 37, 37],\n",
    "[36, 37, 38, 38, 36, 38, 38, 36, 36, 36, 37, 35, 37, 38, 37], \n",
    "[36, 37, 38, 38, 36, 38, 38, 36, 36, 36, 37, 35, 37, 38, 37], \n",
    "[36, 37, 38, 38, 37, 38, 38, 37, 36, 36, 37, 35, 37, 38, 37], \n",
    "[36, 37, 38, 38, 37, 38, 38, 38, 36, 36, 37, 36, 37, 38, 37], \n",
    "[37, 37, 38, 38, 38, 38, 38, 38, 36, 36, 38, 36, 37, 38, 38], \n",
    "[37, 37, 38, 38, 38, 38, 38, 38, 36, 37, 38, 36, 37, 38, 38], \n",
    "[37, 37, 38, 38, 38, 38, 38, 38, 37, 37, 38, 36, 37, 38, 38],\n",
    "[37, 37, 38, 38, 38, 38, 38, 38, 37, 37, 38, 36, 37, 38, 38], \n",
    "[37, 38, 38, 38, 38, 38, 38, 38, 37, 37, 38, 36, 37, 38, 38], \n",
    "[37, 38, 38, 38, 38, 38, 38, 38, 38, 38, 38, 36, 37, 38, 38], \n",
    "[38, 38, 38, 38, 38, 38, 38, 38, 38, 38, 38, 37, 38, 38, 38], \n",
    "[38, 38, 38, 38, 38, 38, 38, 38, 38, 38, 38, 37, 38, 38, 38], \n",
    "[38, 38, 38, 38, 38, 38, 38, 38, 38, 38, 38, 38, 38, 38, 38], \n",
    "[38, 38, 38, 38, 38, 38, 38, 38, 38, 38, 38, 38, 38, 38, 38], \n",
    "[38, 38, 38, 38, 38, 38, 38, 38, 38, 38, 38, 38, 38, 38, 38], \n",
    "[38, 38, 38, 38, 38, 38, 38, 38, 38, 38, 38, 38, 38, 38, 38]]),  columns = [\"Run \" + str(i) for i in range(1,16)])"
   ]
  },
  {
   "cell_type": "code",
   "execution_count": null,
   "metadata": {},
   "outputs": [],
   "source": []
  },
  {
   "cell_type": "code",
   "execution_count": 41,
   "metadata": {},
   "outputs": [],
   "source": [
    "lijst = []\n",
    "\n",
    "for run in range(15):\n",
    "\n",
    "    # Returns first index\n",
    "    lijst.append(df[df.iloc[:,run] == 37].index[0])"
   ]
  },
  {
   "cell_type": "code",
   "execution_count": 42,
   "metadata": {},
   "outputs": [],
   "source": [
    "data50 = np.array(lijst)"
   ]
  },
  {
   "cell_type": "code",
   "execution_count": 43,
   "metadata": {},
   "outputs": [],
   "source": [
    "# Analysis on data50\n",
    "\n",
    "# First do all runs * 50\n",
    "data50 = data50*50"
   ]
  },
  {
   "cell_type": "code",
   "execution_count": 44,
   "metadata": {},
   "outputs": [
    {
     "data": {
      "text/plain": [
       "array([1450, 1250, 1000, 1100, 1350,  900,  850, 1350, 1550, 1500, 1200,\n",
       "       1750, 1250,  850,  950], dtype=int64)"
      ]
     },
     "execution_count": 44,
     "metadata": {},
     "output_type": "execute_result"
    }
   ],
   "source": [
    "# Sanity check for data50\n",
    "data50"
   ]
  },
  {
   "cell_type": "code",
   "execution_count": 45,
   "metadata": {},
   "outputs": [
    {
     "name": "stdout",
     "output_type": "stream",
     "text": [
      "Mean:  1220.0\n",
      "Std :  266.9581740023457\n",
      "Min :  850\n",
      "Max :  1750\n"
     ]
    }
   ],
   "source": [
    "# .. Over all 50 runs\n",
    "print(\"Mean: \", data50.mean())\n",
    "print(\"Std : \", data50.std())\n",
    "print(\"Min : \", data50.min())\n",
    "print(\"Max : \", data50.max())"
   ]
  },
  {
   "cell_type": "code",
   "execution_count": 48,
   "metadata": {},
   "outputs": [],
   "source": [
    "# Analysis on 10 best runs\n",
    "best50 = np.sort(data50)\n",
    "best50 = best50[:10]"
   ]
  },
  {
   "cell_type": "code",
   "execution_count": 51,
   "metadata": {},
   "outputs": [
    {
     "name": "stdout",
     "output_type": "stream",
     "text": [
      "Mean:  1070.0\n",
      "Std :  174.92855684535903\n",
      "Min :  850\n",
      "Max :  1350\n"
     ]
    }
   ],
   "source": [
    "print(\"Mean: \", best50.mean())\n",
    "print(\"Std : \", best50.std())\n",
    "print(\"Min : \", best50.min())\n",
    "print(\"Max : \", best50.max())"
   ]
  },
  {
   "cell_type": "code",
   "execution_count": null,
   "metadata": {},
   "outputs": [],
   "source": []
  },
  {
   "cell_type": "code",
   "execution_count": null,
   "metadata": {},
   "outputs": [],
   "source": []
  },
  {
   "cell_type": "code",
   "execution_count": null,
   "metadata": {},
   "outputs": [],
   "source": []
  },
  {
   "cell_type": "code",
   "execution_count": null,
   "metadata": {},
   "outputs": [],
   "source": []
  },
  {
   "cell_type": "code",
   "execution_count": null,
   "metadata": {},
   "outputs": [],
   "source": []
  },
  {
   "cell_type": "code",
   "execution_count": null,
   "metadata": {},
   "outputs": [],
   "source": []
  },
  {
   "cell_type": "markdown",
   "metadata": {},
   "source": [
    "# Analysis of the 100 data"
   ]
  },
  {
   "cell_type": "code",
   "execution_count": 72,
   "metadata": {},
   "outputs": [],
   "source": [
    "df100 = pd.DataFrame(np.array([[5, 5, 5, 5, 5, 5, 5, 5, 5, 5, 5, 5, 5, 5, 5], \n",
    "[10, 7, 8, 9, 7, 10, 10, 10, 8, 12, 5, 9, 8, 10, 8], \n",
    "[10, 11, 8, 14, 13, 11, 15, 10, 10, 13, 6, 12, 18, 14, 10],\n",
    "[16, 13, 12, 18, 20, 16, 23, 14, 16, 17, 7, 17, 21, 21, 16], \n",
    "[18, 20, 16, 22, 25, 19, 26, 18, 19, 20, 8, 19, 26, 23, 18],\n",
    "[22, 23, 24, 26, 26, 20, 27, 19, 21, 22, 16, 26, 30, 24, 22], \n",
    "[27, 26, 27, 27, 27, 23, 29, 20, 25, 22, 18, 31, 33, 24, 22],\n",
    "[27, 29, 30, 28, 28, 28, 32, 25, 30, 23, 23, 33, 34, 29, 24], \n",
    "[35, 31, 31, 32, 30, 28, 33, 32, 33, 24, 27, 33, 37, 29, 26], \n",
    "[36, 34, 34, 33, 31, 36, 33, 34, 34, 26, 29, 34, 37, 30, 30], \n",
    "[36, 35, 35, 34, 32, 36, 35, 34, 34, 32, 31, 37, 37, 32, 35], \n",
    "[36, 37, 35, 34, 37, 37, 35, 35, 37, 33, 33, 37, 37, 32, 37], \n",
    "[36, 38, 37, 38, 37, 38, 36, 35, 38, 34, 36, 37, 37, 36, 37], \n",
    "[37, 38, 37, 38, 37, 38, 38, 36, 38, 35, 36, 37, 37, 38, 37], \n",
    "[38, 38, 37, 38, 37, 38, 38, 36, 38, 37, 37, 37, 37, 38, 37], \n",
    "[38, 38, 37, 38, 37, 38, 38, 36, 38, 37, 37, 37, 38, 38, 38], \n",
    "[38, 38, 37, 38, 37, 38, 38, 37, 38, 37, 37, 38, 38, 38, 38], \n",
    "[38, 38, 37, 38, 37, 38, 38, 38, 38, 38, 38, 38, 38, 38, 38], \n",
    "[38, 38, 38, 38, 37, 38, 38, 38, 38, 38, 38, 38, 38, 38, 38], \n",
    "[38, 38, 38, 38, 38, 38, 38, 38, 38, 38, 38, 38, 38, 38, 38], \n",
    "[38, 38, 38, 38, 38, 38, 38, 38, 38, 38, 38, 38, 38, 38, 38], \n",
    "[38, 38, 38, 38, 38, 38, 38, 38, 38, 38, 38, 38, 38, 38, 38], \n",
    "[38, 38, 38, 38, 38, 38, 38, 38, 38, 38, 38, 38, 38, 38, 38], \n",
    "[38, 38, 38, 38, 38, 38, 38, 38, 38, 38, 38, 38, 38, 38, 38], \n",
    "[38, 38, 38, 38, 38, 38, 38, 38, 38, 38, 38, 38, 38, 38, 38], \n",
    "[38, 38, 38, 38, 38, 38, 38, 38, 38, 38, 38, 38, 38, 38, 38], \n",
    "[38, 38, 38, 38, 38, 38, 38, 38, 38, 38, 38, 38, 38, 38, 38], \n",
    "[38, 38, 38, 38, 38, 38, 38, 38, 38, 38, 38, 38, 38, 38, 38], \n",
    "[38, 38, 38, 38, 38, 38, 38, 38, 38, 38, 38, 38, 38, 38, 38], \n",
    "[38, 38, 38, 38, 38, 38, 38, 38, 38, 38, 38, 38, 38, 38, 38], \n",
    "[38, 38, 38, 38, 38, 38, 38, 38, 38, 38, 38, 38, 38, 38, 38]]), columns = [\"Run \" + str(i) for i in range(1,16)])"
   ]
  },
  {
   "cell_type": "code",
   "execution_count": 73,
   "metadata": {},
   "outputs": [],
   "source": [
    "lijst100 = []\n",
    "\n",
    "for run in range(15):\n",
    "\n",
    "    # Returns first index bigger than 36\n",
    "    lijst100.append(df100[df100.iloc[:,run] > 36].index[0])"
   ]
  },
  {
   "cell_type": "code",
   "execution_count": 74,
   "metadata": {},
   "outputs": [],
   "source": [
    "data100 = np.array(lijst100)"
   ]
  },
  {
   "cell_type": "code",
   "execution_count": 75,
   "metadata": {},
   "outputs": [],
   "source": [
    "data100 = data100 * 100"
   ]
  },
  {
   "cell_type": "code",
   "execution_count": 76,
   "metadata": {},
   "outputs": [
    {
     "name": "stdout",
     "output_type": "stream",
     "text": [
      "Mean:  1200.0\n",
      "Std :  186.18986725025255\n",
      "Min :  800\n",
      "Max :  1600\n"
     ]
    }
   ],
   "source": [
    "# .. Over all 100 runs\n",
    "print(\"Mean: \", data100.mean())\n",
    "print(\"Std : \", data100.std())\n",
    "print(\"Min : \", data100.min())\n",
    "print(\"Max : \", data100.max())"
   ]
  },
  {
   "cell_type": "code",
   "execution_count": 77,
   "metadata": {},
   "outputs": [],
   "source": [
    "best100 = np.sort(data100)\n",
    "best100 = best100[:10]"
   ]
  },
  {
   "cell_type": "code",
   "execution_count": 78,
   "metadata": {},
   "outputs": [
    {
     "name": "stdout",
     "output_type": "stream",
     "text": [
      "Mean:  1100.0\n",
      "Std :  126.49110640673517\n",
      "Min :  800\n",
      "Max :  1300\n"
     ]
    }
   ],
   "source": [
    "# Best 10 runs on retrain 100\n",
    "print(\"Mean: \", best100.mean())\n",
    "print(\"Std : \", best100.std())\n",
    "print(\"Min : \", best100.min())\n",
    "print(\"Max : \", best100.max())"
   ]
  },
  {
   "cell_type": "code",
   "execution_count": null,
   "metadata": {},
   "outputs": [],
   "source": []
  },
  {
   "cell_type": "code",
   "execution_count": null,
   "metadata": {},
   "outputs": [],
   "source": []
  },
  {
   "cell_type": "code",
   "execution_count": null,
   "metadata": {},
   "outputs": [],
   "source": []
  },
  {
   "cell_type": "code",
   "execution_count": null,
   "metadata": {},
   "outputs": [],
   "source": []
  },
  {
   "cell_type": "code",
   "execution_count": null,
   "metadata": {},
   "outputs": [],
   "source": []
  },
  {
   "cell_type": "code",
   "execution_count": null,
   "metadata": {},
   "outputs": [],
   "source": []
  },
  {
   "cell_type": "code",
   "execution_count": null,
   "metadata": {},
   "outputs": [],
   "source": []
  },
  {
   "cell_type": "code",
   "execution_count": null,
   "metadata": {},
   "outputs": [],
   "source": []
  },
  {
   "cell_type": "code",
   "execution_count": null,
   "metadata": {},
   "outputs": [],
   "source": []
  },
  {
   "cell_type": "code",
   "execution_count": null,
   "metadata": {},
   "outputs": [],
   "source": []
  },
  {
   "cell_type": "code",
   "execution_count": null,
   "metadata": {},
   "outputs": [],
   "source": []
  },
  {
   "cell_type": "code",
   "execution_count": null,
   "metadata": {},
   "outputs": [],
   "source": []
  },
  {
   "cell_type": "markdown",
   "metadata": {},
   "source": [
    "# Analysis on 25 data"
   ]
  },
  {
   "cell_type": "code",
   "execution_count": 79,
   "metadata": {},
   "outputs": [],
   "source": [
    "df25 = pd.DataFrame(np.array([[5, 5, 5, 5, 5, 5, 5, 5, 5, 5, 5, 5, 5, 5, 5], \n",
    "[5, 6, 5, 6, 8, 7, 5, 5, 5, 6, 5, 6, 8, 6, 5], \n",
    "[5, 6, 6, 6, 8, 7, 6, 6, 6, 7, 6, 6, 9, 6, 6], \n",
    "[5, 9, 8, 6, 8, 7, 6, 8, 9, 9, 6, 9, 10, 6, 7], \n",
    "[7, 10, 14, 6, 12, 9, 7, 12, 11, 9, 7, 9, 11, 6, 7], \n",
    "[10, 10, 18, 7, 14, 9, 7, 16, 11, 10, 8, 9, 13, 6, 9], \n",
    "[11, 13, 18, 7, 14, 10, 7, 18, 11, 11, 8, 9, 15, 7, 12],\n",
    "[11, 14, 19, 7, 16, 10, 7, 18, 11, 13, 11, 9, 15, 7, 15], \n",
    "[13, 16, 19, 7, 17, 11, 8, 22, 11, 15, 11, 14, 16, 11, 15], \n",
    "[15, 16, 19, 8, 21, 11, 9, 22, 12, 16, 12, 16, 17, 12, 18], \n",
    "[15, 18, 19, 11, 22, 12, 9, 22, 14, 17, 12, 18, 17, 14, 19], \n",
    "[17, 20, 22, 12, 23, 13, 12, 22, 14, 18, 13, 22, 17, 20, 21], \n",
    "[19, 20, 26, 13, 26, 14, 14, 23, 14, 18, 14, 22, 17, 22, 22], \n",
    "[19, 21, 28, 13, 26, 15, 15, 24, 15, 20, 17, 22, 18, 24, 22], \n",
    "[19, 23, 30, 13, 27, 15, 17, 25, 15, 20, 17, 23, 20, 25, 25], \n",
    "[20, 23, 30, 13, 27, 18, 19, 28, 16, 21, 17, 25, 20, 29, 27], \n",
    "[21, 23, 32, 15, 28, 21, 22, 29, 17, 22, 19, 26, 20, 31, 29], \n",
    "[21, 23, 32, 16, 28, 22, 23, 30, 20, 25, 20, 30, 21, 31, 29], \n",
    "[25, 24, 32, 18, 28, 25, 26, 30, 23, 27, 20, 30, 21, 31, 29], \n",
    "[27, 27, 33, 18, 29, 26, 26, 30, 23, 28, 25, 30, 22, 31, 29], \n",
    "[28, 30, 34, 21, 29, 26, 27, 30, 26, 28, 26, 31, 22, 32, 31], \n",
    "[28, 30, 34, 21, 29, 26, 28, 30, 29, 29, 26, 31, 23, 32, 32], \n",
    "[29, 30, 34, 23, 29, 28, 28, 30, 31, 29, 26, 31, 27, 33, 32], \n",
    "[30, 30, 34, 26, 29, 29, 32, 31, 31, 32, 27, 32, 28, 34, 33], \n",
    "[30, 32, 34, 29, 29, 30, 32, 31, 32, 32, 28, 33, 32, 36, 33], \n",
    "[30, 32, 34, 29, 29, 32, 32, 32, 32, 32, 30, 33, 34, 36, 34], \n",
    "[30, 32, 35, 33, 29, 33, 33, 32, 32, 32, 31, 33, 34, 36, 35], \n",
    "[31, 32, 35, 33, 30, 33, 35, 33, 32, 32, 31, 33, 34, 36, 36], \n",
    "[32, 32, 35, 34, 30, 33, 35, 33, 32, 33, 32, 33, 34, 36, 36], \n",
    "[32, 32, 35, 34, 31, 33, 35, 33, 32, 35, 32, 35, 34, 36, 36], \n",
    "[33, 33, 35, 34, 31, 33, 35, 33, 32, 38, 32, 35, 36, 36, 36], \n",
    "[33, 35, 35, 35, 31, 33, 35, 35, 35, 38, 33, 35, 36, 36, 36], \n",
    "[33, 36, 35, 35, 33, 33, 35, 35, 35, 38, 34, 35, 37, 36, 36], \n",
    "[33, 36, 35, 35, 33, 33, 35, 35, 35, 38, 35, 35, 37, 36, 36], \n",
    "[33, 36, 36, 35, 33, 33, 35, 35, 36, 38, 35, 35, 37, 36, 36], \n",
    "[34, 36, 36, 35, 33, 34, 35, 35, 37, 38, 35, 35, 37, 36, 36], \n",
    "[34, 36, 36, 35, 33, 35, 36, 35, 37, 38, 35, 35, 37, 36, 36], \n",
    "[34, 36, 36, 35, 35, 35, 36, 35, 37, 38, 35, 35, 37, 36, 36], \n",
    "[34, 36, 36, 35, 35, 36, 36, 35, 37, 38, 35, 35, 37, 36, 36], \n",
    "[36, 36, 36, 35, 36, 37, 37, 35, 37, 38, 35, 35, 37, 37, 36], \n",
    "[36, 36, 36, 36, 36, 37, 37, 35, 37, 38, 35, 35, 37, 37, 36], \n",
    "[36, 36, 36, 36, 36, 37, 37, 36, 37, 38, 35, 36, 37, 37, 36], \n",
    "[36, 36, 36, 36, 36, 37, 37, 37, 37, 38, 35, 36, 37, 37, 36], \n",
    "[36, 36, 36, 37, 36, 37, 37, 38, 37, 38, 35, 36, 37, 37, 36], \n",
    "[36, 36, 38, 37, 36, 37, 37, 38, 37, 38, 35, 36, 37, 37, 36], \n",
    "[36, 36, 38, 37, 36, 37, 37, 38, 37, 38, 35, 36, 37, 38, 36], \n",
    "[37, 36, 38, 37, 36, 37, 37, 38, 37, 38, 35, 36, 37, 38, 36], \n",
    "[37, 36, 38, 37, 36, 37, 37, 38, 37, 38, 36, 36, 37, 38, 36], \n",
    "[37, 36, 38, 37, 36, 38, 37, 38, 37, 38, 36, 36, 37, 38, 36], \n",
    "[37, 36, 38, 37, 36, 38, 37, 38, 37, 38, 36, 36, 37, 38, 36], \n",
    "[37, 36, 38, 37, 37, 38, 37, 38, 37, 38, 36, 36, 37, 38, 36], \n",
    "[38, 36, 38, 37, 37, 38, 37, 38, 37, 38, 36, 36, 38, 38, 36], \n",
    "[38, 36, 38, 37, 37, 38, 37, 38, 37, 38, 36, 37, 38, 38, 36], \n",
    "[38, 36, 38, 37, 37, 38, 37, 38, 37, 38, 37, 37, 38, 38, 36], \n",
    "[38, 36, 38, 37, 37, 38, 37, 38, 37, 38, 37, 37, 38, 38, 36], \n",
    "[38, 36, 38, 37, 37, 38, 37, 38, 38, 38, 37, 37, 38, 38, 36], \n",
    "[38, 37, 38, 37, 37, 38, 37, 38, 38, 38, 37, 37, 38, 38, 37], \n",
    "[38, 37, 38, 37, 37, 38, 37, 38, 38, 38, 37, 37, 38, 38, 37], \n",
    "[38, 38, 38, 37, 37, 38, 37, 38, 38, 38, 38, 38, 38, 38, 37], \n",
    "[38, 38, 38, 37, 37, 38, 38, 38, 38, 38, 38, 38, 38, 38, 37], \n",
    "[38, 38, 38, 37, 37, 38, 38, 38, 38, 38, 38, 38, 38, 38, 37]]), columns = [\"Run \" + str(i) for i in range(1,16)]) "
   ]
  },
  {
   "cell_type": "code",
   "execution_count": 82,
   "metadata": {},
   "outputs": [],
   "source": [
    "lijst25 = []\n",
    "\n",
    "for run in range(15):\n",
    "\n",
    "    # Returns first index bigger than 36\n",
    "    lijst25.append(df25[df25.iloc[:,run] > 36].index[0])"
   ]
  },
  {
   "cell_type": "code",
   "execution_count": 84,
   "metadata": {},
   "outputs": [],
   "source": [
    "# data25\n",
    "data25 = np.array(lijst25)\n",
    "data25 = data25 * 25"
   ]
  },
  {
   "cell_type": "code",
   "execution_count": 85,
   "metadata": {},
   "outputs": [
    {
     "name": "stdout",
     "output_type": "stream",
     "text": [
      "Mean:  1093.3333333333333\n",
      "Std :  201.3427150132055\n",
      "Min :  750\n",
      "Max :  1400\n"
     ]
    }
   ],
   "source": [
    "# .. Over all 25 runs\n",
    "print(\"Mean: \", data25.mean())\n",
    "print(\"Std : \", data25.std())\n",
    "print(\"Min : \", data25.min())\n",
    "print(\"Max : \", data25.max())"
   ]
  },
  {
   "cell_type": "code",
   "execution_count": 86,
   "metadata": {},
   "outputs": [],
   "source": [
    "best25 = np.sort(data25)\n",
    "best25 = best25[:10]"
   ]
  },
  {
   "cell_type": "code",
   "execution_count": 87,
   "metadata": {},
   "outputs": [
    {
     "name": "stdout",
     "output_type": "stream",
     "text": [
      "Mean:  972.5\n",
      "Std :  123.71843031658622\n",
      "Min :  750\n",
      "Max :  1150\n"
     ]
    }
   ],
   "source": [
    "# Best 10 runs on retrain 25\n",
    "print(\"Mean: \", best25.mean())\n",
    "print(\"Std : \", best25.std())\n",
    "print(\"Min : \", best25.min())\n",
    "print(\"Max : \", best25.max())"
   ]
  },
  {
   "cell_type": "code",
   "execution_count": 90,
   "metadata": {},
   "outputs": [
    {
     "data": {
      "text/plain": [
       "<matplotlib.axes._subplots.AxesSubplot at 0x1e691bd3ef0>"
      ]
     },
     "execution_count": 90,
     "metadata": {},
     "output_type": "execute_result"
    },
    {
     "data": {
      "image/png": "[encoded data removed]",
      "text/plain": [
       "<matplotlib.figure.Figure at 0x1e691a421d0>"
      ]
     },
     "metadata": {},
     "output_type": "display_data"
    }
   ],
   "source": [
    "df25.plot()"
   ]
  },
  {
   "cell_type": "code",
   "execution_count": null,
   "metadata": {},
   "outputs": [],
   "source": []
  }
 ],
 "metadata": {
  "kernelspec": {
   "display_name": "Python 3",
   "language": "python",
   "name": "python3"
  },
  "language_info": {
   "codemirror_mode": {
    "name": "ipython",
    "version": 3
   },
   "file_extension": ".py",
   "mimetype": "text/x-python",
   "name": "python",
   "nbconvert_exporter": "python",
   "pygments_lexer": "ipython3",
   "version": "3.6.4"
  }
 },
 "nbformat": 4,
 "nbformat_minor": 2
}
